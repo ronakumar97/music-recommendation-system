{
 "cells": [
  {
   "cell_type": "code",
   "execution_count": 34,
   "metadata": {
    "execution": {
     "iopub.execute_input": "2021-12-15T23:19:54.745224Z",
     "iopub.status.busy": "2021-12-15T23:19:54.744451Z",
     "iopub.status.idle": "2021-12-15T23:19:54.750863Z",
     "shell.execute_reply": "2021-12-15T23:19:54.749716Z",
     "shell.execute_reply.started": "2021-12-15T23:19:54.745173Z"
    }
   },
   "outputs": [],
   "source": [
    "#Importing Modules\n",
    "import pandas as pd\n",
    "import numpy as np\n",
    "import matplotlib as plt\n",
    "import seaborn as sns\n",
    "import tensorflow as tf"
   ]
  },
  {
   "cell_type": "code",
   "execution_count": 35,
   "metadata": {
    "execution": {
     "iopub.execute_input": "2021-12-15T23:19:54.753665Z",
     "iopub.status.busy": "2021-12-15T23:19:54.753043Z",
     "iopub.status.idle": "2021-12-15T23:19:55.207839Z",
     "shell.execute_reply": "2021-12-15T23:19:55.206409Z",
     "shell.execute_reply.started": "2021-12-15T23:19:54.753619Z"
    },
    "scrolled": true
   },
   "outputs": [],
   "source": [
    "#Importing dataset.\n",
    "songdf= pd.read_csv(\"/kaggle/input/dataset-of-songs-in-spotify/genres_v2.csv\", encoding='utf-8', quotechar='\"')\n",
    "songdf.head(10)"
   ]
  },
  {
   "cell_type": "code",
   "execution_count": 36,
   "metadata": {
    "execution": {
     "iopub.execute_input": "2021-12-15T23:19:55.209925Z",
     "iopub.status.busy": "2021-12-15T23:19:55.209528Z",
     "iopub.status.idle": "2021-12-15T23:19:55.215190Z",
     "shell.execute_reply": "2021-12-15T23:19:55.214203Z",
     "shell.execute_reply.started": "2021-12-15T23:19:55.209893Z"
    }
   },
   "outputs": [],
   "source": [
    "song_name = songdf[\"song_name\"]"
   ]
  },
  {
   "cell_type": "code",
   "execution_count": 37,
   "metadata": {
    "execution": {
     "iopub.execute_input": "2021-12-15T23:19:55.217122Z",
     "iopub.status.busy": "2021-12-15T23:19:55.216815Z",
     "iopub.status.idle": "2021-12-15T23:19:55.234195Z",
     "shell.execute_reply": "2021-12-15T23:19:55.232926Z",
     "shell.execute_reply.started": "2021-12-15T23:19:55.217092Z"
    }
   },
   "outputs": [],
   "source": [
    "print(song_name.shape)\n",
    "print(song_name.isnull().values.any())"
   ]
  },
  {
   "cell_type": "code",
   "execution_count": 38,
   "metadata": {
    "execution": {
     "iopub.execute_input": "2021-12-15T23:19:55.238883Z",
     "iopub.status.busy": "2021-12-15T23:19:55.238011Z",
     "iopub.status.idle": "2021-12-15T23:19:55.244921Z",
     "shell.execute_reply": "2021-12-15T23:19:55.243807Z",
     "shell.execute_reply.started": "2021-12-15T23:19:55.238832Z"
    }
   },
   "outputs": [],
   "source": [
    "song_name = song_name.values.reshape(-1,1)"
   ]
  },
  {
   "cell_type": "code",
   "execution_count": 39,
   "metadata": {
    "execution": {
     "iopub.execute_input": "2021-12-15T23:19:55.247619Z",
     "iopub.status.busy": "2021-12-15T23:19:55.246940Z",
     "iopub.status.idle": "2021-12-15T23:19:55.263490Z",
     "shell.execute_reply": "2021-12-15T23:19:55.262559Z",
     "shell.execute_reply.started": "2021-12-15T23:19:55.247546Z"
    }
   },
   "outputs": [],
   "source": [
    "song_name.shape"
   ]
  },
  {
   "cell_type": "markdown",
   "metadata": {},
   "source": [
    "#### REPLACING NA VALUES"
   ]
  },
  {
   "cell_type": "code",
   "execution_count": 40,
   "metadata": {
    "execution": {
     "iopub.execute_input": "2021-12-15T23:19:55.265386Z",
     "iopub.status.busy": "2021-12-15T23:19:55.264830Z",
     "iopub.status.idle": "2021-12-15T23:19:55.294011Z",
     "shell.execute_reply": "2021-12-15T23:19:55.293105Z",
     "shell.execute_reply.started": "2021-12-15T23:19:55.265351Z"
    }
   },
   "outputs": [],
   "source": [
    "from sklearn.impute import SimpleImputer\n",
    "imr = SimpleImputer(missing_values=np.nan, strategy='most_frequent')\n",
    "imr = imr.fit(song_name)\n",
    "imputed_data = imr.transform(song_name)\n",
    "song_name = pd.DataFrame(imputed_data)\n",
    "song_name = song_name.rename(columns={0:\"Song-Names\"})\n",
    "song_name.head(3)"
   ]
  },
  {
   "cell_type": "markdown",
   "metadata": {},
   "source": [
    "#### CREATING CORE\n",
    "Let's create a DataFrame that contains genre, mode, and duration_ms info of the given song names. <br>\n",
    "Let's name it as core."
   ]
  },
  {
   "cell_type": "code",
   "execution_count": 41,
   "metadata": {
    "execution": {
     "iopub.execute_input": "2021-12-15T23:19:55.295831Z",
     "iopub.status.busy": "2021-12-15T23:19:55.295475Z",
     "iopub.status.idle": "2021-12-15T23:19:55.306623Z",
     "shell.execute_reply": "2021-12-15T23:19:55.305409Z",
     "shell.execute_reply.started": "2021-12-15T23:19:55.295801Z"
    }
   },
   "outputs": [],
   "source": [
    "core = songdf[[\"genre\",\"mode\",\"duration_ms\"]]\n",
    "print(core.dtypes)\n",
    "print(core.head())"
   ]
  },
  {
   "cell_type": "code",
   "execution_count": 42,
   "metadata": {
    "execution": {
     "iopub.execute_input": "2021-12-15T23:19:55.308397Z",
     "iopub.status.busy": "2021-12-15T23:19:55.307941Z",
     "iopub.status.idle": "2021-12-15T23:19:55.320642Z",
     "shell.execute_reply": "2021-12-15T23:19:55.319395Z",
     "shell.execute_reply.started": "2021-12-15T23:19:55.308360Z"
    }
   },
   "outputs": [],
   "source": [
    "core.dtypes"
   ]
  },
  {
   "cell_type": "markdown",
   "metadata": {},
   "source": [
    "Hmm, looks like dtype of genre is object, and it contains string values. Let's encode them and make convinient for M.L. algorithm. "
   ]
  },
  {
   "cell_type": "code",
   "execution_count": 43,
   "metadata": {
    "execution": {
     "iopub.execute_input": "2021-12-15T23:19:55.322351Z",
     "iopub.status.busy": "2021-12-15T23:19:55.321856Z",
     "iopub.status.idle": "2021-12-15T23:19:55.344248Z",
     "shell.execute_reply": "2021-12-15T23:19:55.343177Z",
     "shell.execute_reply.started": "2021-12-15T23:19:55.322306Z"
    }
   },
   "outputs": [],
   "source": [
    "core[\"genre\"].value_counts()"
   ]
  },
  {
   "cell_type": "code",
   "execution_count": 44,
   "metadata": {
    "execution": {
     "iopub.execute_input": "2021-12-15T23:19:55.346406Z",
     "iopub.status.busy": "2021-12-15T23:19:55.345792Z",
     "iopub.status.idle": "2021-12-15T23:19:55.423601Z",
     "shell.execute_reply": "2021-12-15T23:19:55.422688Z",
     "shell.execute_reply.started": "2021-12-15T23:19:55.346351Z"
    }
   },
   "outputs": [],
   "source": [
    "core = core.replace({\"genre\":{\"Underground Rap\":0, \"Dark Trap\":1, \"Hiphop\":2, \"trance\":3, \"trap\":4, \"techhouse\":5, \"dnb\":6, \"psytrance\": 7, \"techno\":8, \"hardstyle\":9, \"RnB\":10, \"Trap Metal\":11, \"Rap\":12, \"Emo\":13, \"Pop\":14}})"
   ]
  },
  {
   "cell_type": "markdown",
   "metadata": {},
   "source": [
    "#### APPLYING NMF\n",
    "Non-negative matrix factorization (NMF), also non-negative matrix approximation is a group of algorithms in multivariate analysis and linear algebra where a matrix V is factorized into (usually) two matrices W and H, with the property that all three matrices have no negative elements. This non-negativity makes the resulting matrices easier to inspect."
   ]
  },
  {
   "cell_type": "code",
   "execution_count": 45,
   "metadata": {
    "execution": {
     "iopub.execute_input": "2021-12-15T23:19:55.425046Z",
     "iopub.status.busy": "2021-12-15T23:19:55.424771Z",
     "iopub.status.idle": "2021-12-15T23:19:55.478580Z",
     "shell.execute_reply": "2021-12-15T23:19:55.477232Z",
     "shell.execute_reply.started": "2021-12-15T23:19:55.425016Z"
    },
    "scrolled": true
   },
   "outputs": [],
   "source": [
    "from sklearn.decomposition import NMF\n",
    "nmf = NMF(n_components = 6)\n",
    "nmf_features = nmf.fit_transform(core)"
   ]
  },
  {
   "cell_type": "code",
   "execution_count": 46,
   "metadata": {
    "execution": {
     "iopub.execute_input": "2021-12-15T23:19:55.486437Z",
     "iopub.status.busy": "2021-12-15T23:19:55.485840Z",
     "iopub.status.idle": "2021-12-15T23:19:55.503870Z",
     "shell.execute_reply": "2021-12-15T23:19:55.502227Z",
     "shell.execute_reply.started": "2021-12-15T23:19:55.486385Z"
    }
   },
   "outputs": [],
   "source": [
    "from sklearn.preprocessing import normalize\n",
    "norm_features = normalize(nmf_features)"
   ]
  },
  {
   "cell_type": "code",
   "execution_count": 47,
   "metadata": {
    "execution": {
     "iopub.execute_input": "2021-12-15T23:19:55.510854Z",
     "iopub.status.busy": "2021-12-15T23:19:55.510292Z",
     "iopub.status.idle": "2021-12-15T23:19:55.602642Z",
     "shell.execute_reply": "2021-12-15T23:19:55.601737Z",
     "shell.execute_reply.started": "2021-12-15T23:19:55.510800Z"
    }
   },
   "outputs": [],
   "source": [
    "df = pd.DataFrame(norm_features)\n",
    "x = df.join(song_name)\n",
    "df = pd.pivot_table(x, x[[0,1,2,3,4,5]],[\"Song-Names\"])#for indexing song_name to our df\n",
    "def your_song(value):\n",
    "    print(\"Top 5 recommendations for given music are:\")\n",
    "    value = df.loc[value]\n",
    "    similarities = df.dot(value)\n",
    "    print(format(similarities.nlargest()))"
   ]
  },
  {
   "cell_type": "code",
   "execution_count": 48,
   "metadata": {
    "execution": {
     "iopub.execute_input": "2021-12-15T23:19:55.606261Z",
     "iopub.status.busy": "2021-12-15T23:19:55.605779Z",
     "iopub.status.idle": "2021-12-15T23:19:55.628565Z",
     "shell.execute_reply": "2021-12-15T23:19:55.627309Z",
     "shell.execute_reply.started": "2021-12-15T23:19:55.606215Z"
    },
    "scrolled": true
   },
   "outputs": [],
   "source": [
    "your_song(\"rap music\")"
   ]
  }
 ],
 "metadata": {
  "kernelspec": {
   "display_name": "Python 3 (ipykernel)",
   "language": "python",
   "name": "python3"
  },
  "language_info": {
   "codemirror_mode": {
    "name": "ipython",
    "version": 3
   },
   "file_extension": ".py",
   "mimetype": "text/x-python",
   "name": "python",
   "nbconvert_exporter": "python",
   "pygments_lexer": "ipython3",
   "version": "3.9.6"
  }
 },
 "nbformat": 4,
 "nbformat_minor": 4
}
