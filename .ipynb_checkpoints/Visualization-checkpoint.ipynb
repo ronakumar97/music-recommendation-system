{
 "cells": [
  {
   "cell_type": "code",
   "execution_count": 6,
   "id": "b798ecd7",
   "metadata": {},
   "outputs": [],
   "source": [
    "import pandas as pd\n",
    "import numpy as np\n",
    "import pymongo\n",
    "from bson.objectid import ObjectId\n",
    "import seaborn as sns"
   ]
  },
  {
   "cell_type": "code",
   "execution_count": 2,
   "id": "1665a0f5",
   "metadata": {},
   "outputs": [],
   "source": [
    "client = pymongo.MongoClient()"
   ]
  },
  {
   "cell_type": "code",
   "execution_count": 3,
   "id": "12b72532",
   "metadata": {},
   "outputs": [],
   "source": [
    "db = client.get_database('music_project')"
   ]
  },
  {
   "cell_type": "code",
   "execution_count": 4,
   "id": "b939a713",
   "metadata": {},
   "outputs": [],
   "source": [
    "user_records = db.users\n",
    "user_preferences = db.preferences\n",
    "user_history = db.history"
   ]
  },
  {
   "cell_type": "code",
   "execution_count": 5,
   "id": "ce8b2a33",
   "metadata": {},
   "outputs": [],
   "source": [
    "df = pd.read_csv('SPOTIFY_DATASET_FINAL.csv')"
   ]
  },
  {
   "cell_type": "code",
   "execution_count": 11,
   "id": "b9ab6e1f",
   "metadata": {},
   "outputs": [
    {
     "name": "stderr",
     "output_type": "stream",
     "text": [
      "c:\\python39\\lib\\site-packages\\seaborn\\_decorators.py:36: FutureWarning: Pass the following variables as keyword args: x, y. From version 0.12, the only valid positional argument will be `data`, and passing other arguments without an explicit keyword will result in an error or misinterpretation.\n",
      "  warnings.warn(\n"
     ]
    },
    {
     "data": {
      "text/plain": [
       "<AxesSubplot:xlabel='year', ylabel='explicit'>"
      ]
     },
     "execution_count": 11,
     "metadata": {},
     "output_type": "execute_result"
    },
    {
     "data": {
      "image/png": "[encoded data removed]",
      "text/plain": [
       "<Figure size 432x288 with 1 Axes>"
      ]
     },
     "metadata": {
      "needs_background": "light"
     },
     "output_type": "display_data"
    }
   ],
   "source": [
    "sns.scatterplot(df['year'], df['explicit'])"
   ]
  },
  {
   "cell_type": "code",
   "execution_count": null,
   "id": "6d13e59d",
   "metadata": {},
   "outputs": [],
   "source": []
  }
 ],
 "metadata": {
  "kernelspec": {
   "display_name": "Python 3 (ipykernel)",
   "language": "python",
   "name": "python3"
  },
  "language_info": {
   "codemirror_mode": {
    "name": "ipython",
    "version": 3
   },
   "file_extension": ".py",
   "mimetype": "text/x-python",
   "name": "python",
   "nbconvert_exporter": "python",
   "pygments_lexer": "ipython3",
   "version": "3.9.6"
  }
 },
 "nbformat": 4,
 "nbformat_minor": 5
}
