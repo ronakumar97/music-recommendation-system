{
 "cells": [
  {
   "cell_type": "code",
   "execution_count": null,
   "metadata": {
    "execution": {
     "iopub.execute_input": "2021-12-15T22:52:46.254868Z",
     "iopub.status.busy": "2021-12-15T22:52:46.254449Z",
     "iopub.status.idle": "2021-12-15T22:52:46.260499Z",
     "shell.execute_reply": "2021-12-15T22:52:46.259362Z",
     "shell.execute_reply.started": "2021-12-15T22:52:46.254834Z"
    },
    "id": "WjlR7utbTtHs"
   },
   "outputs": [],
   "source": [
    "#Importing Modules\n",
    "import pandas as pd\n",
    "import numpy as np\n",
    "import matplotlib as plt\n",
    "import seaborn as sns"
   ]
  },
  {
   "cell_type": "code",
   "execution_count": null,
   "metadata": {
    "execution": {
     "iopub.execute_input": "2021-12-15T22:53:36.986841Z",
     "iopub.status.busy": "2021-12-15T22:53:36.986467Z",
     "iopub.status.idle": "2021-12-15T22:53:37.370087Z",
     "shell.execute_reply": "2021-12-15T22:53:37.369306Z",
     "shell.execute_reply.started": "2021-12-15T22:53:36.986808Z"
    },
    "id": "EOkGRLjbTtHt",
    "scrolled": true
   },
   "outputs": [],
   "source": [
    "#Importing dataset.\n",
    "songdf= pd.read_csv(\"/kaggle/input/dataset-of-songs-in-spotify/genres_v2.csv\", encoding='utf-8', quotechar='\"')\n",
    "songdf.head(10)"
   ]
  },
  {
   "cell_type": "code",
   "execution_count": null,
   "metadata": {
    "execution": {
     "iopub.execute_input": "2021-12-15T22:52:46.716017Z",
     "iopub.status.busy": "2021-12-15T22:52:46.715698Z",
     "iopub.status.idle": "2021-12-15T22:52:46.720327Z",
     "shell.execute_reply": "2021-12-15T22:52:46.719511Z",
     "shell.execute_reply.started": "2021-12-15T22:52:46.715983Z"
    },
    "id": "hl41V2hwTtHt"
   },
   "outputs": [],
   "source": [
    "song_name = songdf[\"song_name\"]"
   ]
  },
  {
   "cell_type": "code",
   "execution_count": null,
   "metadata": {
    "execution": {
     "iopub.execute_input": "2021-12-15T22:52:46.723434Z",
     "iopub.status.busy": "2021-12-15T22:52:46.723140Z",
     "iopub.status.idle": "2021-12-15T22:52:46.740356Z",
     "shell.execute_reply": "2021-12-15T22:52:46.739194Z",
     "shell.execute_reply.started": "2021-12-15T22:52:46.723405Z"
    },
    "id": "SoAqmI5gTtHu"
   },
   "outputs": [],
   "source": [
    "print(song_name.shape)\n",
    "print(song_name.isnull().values.any())"
   ]
  },
  {
   "cell_type": "code",
   "execution_count": null,
   "metadata": {
    "execution": {
     "iopub.execute_input": "2021-12-15T22:52:46.744619Z",
     "iopub.status.busy": "2021-12-15T22:52:46.744079Z",
     "iopub.status.idle": "2021-12-15T22:52:46.750835Z",
     "shell.execute_reply": "2021-12-15T22:52:46.749721Z",
     "shell.execute_reply.started": "2021-12-15T22:52:46.744549Z"
    },
    "id": "vh6R7KxVTtHu"
   },
   "outputs": [],
   "source": [
    "song_name = song_name.values.reshape(-1,1)"
   ]
  },
  {
   "cell_type": "code",
   "execution_count": null,
   "metadata": {
    "execution": {
     "iopub.execute_input": "2021-12-15T22:52:46.752369Z",
     "iopub.status.busy": "2021-12-15T22:52:46.752040Z",
     "iopub.status.idle": "2021-12-15T22:52:46.771436Z",
     "shell.execute_reply": "2021-12-15T22:52:46.770467Z",
     "shell.execute_reply.started": "2021-12-15T22:52:46.752338Z"
    },
    "id": "uLeiRWIVTtHu"
   },
   "outputs": [],
   "source": [
    "song_name.shape"
   ]
  },
  {
   "cell_type": "markdown",
   "metadata": {
    "id": "XsRJ32SXUKdk"
   },
   "source": []
  },
  {
   "cell_type": "code",
   "execution_count": null,
   "metadata": {
    "execution": {
     "iopub.execute_input": "2021-12-15T22:52:46.773208Z",
     "iopub.status.busy": "2021-12-15T22:52:46.772686Z",
     "iopub.status.idle": "2021-12-15T22:52:46.805605Z",
     "shell.execute_reply": "2021-12-15T22:52:46.804317Z",
     "shell.execute_reply.started": "2021-12-15T22:52:46.773173Z"
    },
    "id": "ngQXuRRnTtHv"
   },
   "outputs": [],
   "source": [
    "from sklearn.impute import SimpleImputer\n",
    "imr = SimpleImputer(missing_values=np.nan, strategy='most_frequent')\n",
    "imr = imr.fit(song_name)\n",
    "imputed_data = imr.transform(song_name)\n",
    "song_name = pd.DataFrame(imputed_data)\n",
    "song_name = song_name.rename(columns={0:\"Song-Names\"})\n",
    "song_name.head(3)"
   ]
  },
  {
   "cell_type": "code",
   "execution_count": null,
   "metadata": {
    "execution": {
     "iopub.execute_input": "2021-12-15T22:52:46.807628Z",
     "iopub.status.busy": "2021-12-15T22:52:46.807268Z",
     "iopub.status.idle": "2021-12-15T22:52:46.820174Z",
     "shell.execute_reply": "2021-12-15T22:52:46.818933Z",
     "shell.execute_reply.started": "2021-12-15T22:52:46.807567Z"
    },
    "id": "K6tnl6sSTtHx"
   },
   "outputs": [],
   "source": [
    "core = songdf[[\"genre\",\"mode\",\"duration_ms\"]]\n",
    "print(core.dtypes)\n",
    "print(core.head())"
   ]
  },
  {
   "cell_type": "code",
   "execution_count": null,
   "metadata": {
    "execution": {
     "iopub.execute_input": "2021-12-15T22:52:46.822505Z",
     "iopub.status.busy": "2021-12-15T22:52:46.821878Z",
     "iopub.status.idle": "2021-12-15T22:52:46.837621Z",
     "shell.execute_reply": "2021-12-15T22:52:46.836538Z",
     "shell.execute_reply.started": "2021-12-15T22:52:46.822455Z"
    },
    "id": "hazdoLpVTtHx"
   },
   "outputs": [],
   "source": [
    "core.dtypes"
   ]
  },
  {
   "cell_type": "code",
   "execution_count": null,
   "metadata": {
    "execution": {
     "iopub.execute_input": "2021-12-15T22:52:46.839807Z",
     "iopub.status.busy": "2021-12-15T22:52:46.839248Z",
     "iopub.status.idle": "2021-12-15T22:52:46.868110Z",
     "shell.execute_reply": "2021-12-15T22:52:46.867014Z",
     "shell.execute_reply.started": "2021-12-15T22:52:46.839764Z"
    },
    "id": "Z9aab8szTtHx"
   },
   "outputs": [],
   "source": [
    "core[\"genre\"].value_counts()"
   ]
  },
  {
   "cell_type": "code",
   "execution_count": null,
   "metadata": {
    "execution": {
     "iopub.execute_input": "2021-12-15T22:52:46.870049Z",
     "iopub.status.busy": "2021-12-15T22:52:46.869480Z",
     "iopub.status.idle": "2021-12-15T22:52:46.945648Z",
     "shell.execute_reply": "2021-12-15T22:52:46.944713Z",
     "shell.execute_reply.started": "2021-12-15T22:52:46.870004Z"
    },
    "id": "srRDYKoYTtHy"
   },
   "outputs": [],
   "source": [
    "core = core.replace({\"genre\":{\"Underground Rap\":0, \"Dark Trap\":1, \"Hiphop\":2, \"trance\":3, \"trap\":4, \"techhouse\":5, \"dnb\":6, \"psytrance\": 7, \"techno\":8, \"hardstyle\":9, \"RnB\":10, \"Trap Metal\":11, \"Rap\":12, \"Emo\":13, \"Pop\":14}})"
   ]
  },
  {
   "cell_type": "code",
   "execution_count": 1,
   "metadata": {
    "colab": {
     "base_uri": "https://localhost:8080/",
     "height": 201
    },
    "execution": {
     "iopub.execute_input": "2021-12-15T22:52:46.947546Z",
     "iopub.status.busy": "2021-12-15T22:52:46.946994Z",
     "iopub.status.idle": "2021-12-15T22:52:47.010462Z",
     "shell.execute_reply": "2021-12-15T22:52:47.009023Z",
     "shell.execute_reply.started": "2021-12-15T22:52:46.947511Z"
    },
    "id": "u5QBEninTtHy",
    "outputId": "af63bd24-3ad2-4f8d-e238-1e863ba8ad99",
    "scrolled": true
   },
   "outputs": [
    {
     "ename": "NameError",
     "evalue": "ignored",
     "output_type": "error",
     "traceback": [
      "\u001b[0;31m---------------------------------------------------------------------------\u001b[0m",
      "\u001b[0;31mNameError\u001b[0m                                 Traceback (most recent call last)",
      "\u001b[0;32m<ipython-input-1-a18c85f5f0bd>\u001b[0m in \u001b[0;36m<module>\u001b[0;34m()\u001b[0m\n\u001b[1;32m      2\u001b[0m \u001b[0;32mfrom\u001b[0m \u001b[0msklearn\u001b[0m\u001b[0;34m.\u001b[0m\u001b[0mdecomposition\u001b[0m \u001b[0;32mimport\u001b[0m \u001b[0mNMF\u001b[0m\u001b[0;34m\u001b[0m\u001b[0;34m\u001b[0m\u001b[0m\n\u001b[1;32m      3\u001b[0m \u001b[0mnmf\u001b[0m \u001b[0;34m=\u001b[0m \u001b[0mNMF\u001b[0m\u001b[0;34m(\u001b[0m\u001b[0mn_components\u001b[0m \u001b[0;34m=\u001b[0m \u001b[0;36m6\u001b[0m\u001b[0;34m)\u001b[0m\u001b[0;34m\u001b[0m\u001b[0;34m\u001b[0m\u001b[0m\n\u001b[0;32m----> 4\u001b[0;31m \u001b[0mnmf_features\u001b[0m \u001b[0;34m=\u001b[0m \u001b[0mnmf\u001b[0m\u001b[0;34m.\u001b[0m\u001b[0mfit_transform\u001b[0m\u001b[0;34m(\u001b[0m\u001b[0mcore\u001b[0m\u001b[0;34m)\u001b[0m\u001b[0;34m\u001b[0m\u001b[0;34m\u001b[0m\u001b[0m\n\u001b[0m",
      "\u001b[0;31mNameError\u001b[0m: name 'core' is not defined"
     ]
    }
   ],
   "source": [
    "#Apply NMF\n",
    "from sklearn.decomposition import NMF\n",
    "nmf = NMF(n_components = 6)\n",
    "nmf_features = nmf.fit_transform(core)"
   ]
  },
  {
   "cell_type": "code",
   "execution_count": null,
   "metadata": {
    "execution": {
     "iopub.execute_input": "2021-12-15T22:52:47.013658Z",
     "iopub.status.busy": "2021-12-15T22:52:47.012696Z",
     "iopub.status.idle": "2021-12-15T22:52:47.023910Z",
     "shell.execute_reply": "2021-12-15T22:52:47.022525Z",
     "shell.execute_reply.started": "2021-12-15T22:52:47.013581Z"
    },
    "id": "VCjDikr9TtHy"
   },
   "outputs": [],
   "source": [
    "from sklearn.preprocessing import normalize\n",
    "norm_features = normalize(nmf_features)"
   ]
  },
  {
   "cell_type": "code",
   "execution_count": null,
   "metadata": {
    "execution": {
     "iopub.execute_input": "2021-12-15T22:52:47.027351Z",
     "iopub.status.busy": "2021-12-15T22:52:47.026367Z",
     "iopub.status.idle": "2021-12-15T22:52:47.121950Z",
     "shell.execute_reply": "2021-12-15T22:52:47.119982Z",
     "shell.execute_reply.started": "2021-12-15T22:52:47.027288Z"
    },
    "id": "YXQryEJNTtHy"
   },
   "outputs": [],
   "source": [
    "df = pd.DataFrame(norm_features)\n",
    "x = df.join(song_name)\n",
    "df = pd.pivot_table(x, x[[0,1,2,3,4,5]],[\"Song-Names\"])#for indexing song_name to our df\n",
    "def song_choice(value):\n",
    "    print(\"Top 5 recommendations are:\")\n",
    "    value = df.loc[value]\n",
    "    similarities = df.dot(value)\n",
    "    print(format(similarities.nlargest()))"
   ]
  },
  {
   "cell_type": "code",
   "execution_count": null,
   "metadata": {
    "execution": {
     "iopub.execute_input": "2021-12-15T22:53:08.874268Z",
     "iopub.status.busy": "2021-12-15T22:53:08.873548Z",
     "iopub.status.idle": "2021-12-15T22:53:08.887068Z",
     "shell.execute_reply": "2021-12-15T22:53:08.885697Z",
     "shell.execute_reply.started": "2021-12-15T22:53:08.874219Z"
    },
    "id": "C4U4w6uyTtHz",
    "scrolled": true
   },
   "outputs": [],
   "source": [
    "song_choice(\"rap music\")"
   ]
  }
 ],
 "metadata": {
  "colab": {
   "name": "NMF.ipynb",
   "provenance": []
  },
  "kernelspec": {
   "display_name": "Python 3 (ipykernel)",
   "language": "python",
   "name": "python3"
  },
  "language_info": {
   "codemirror_mode": {
    "name": "ipython",
    "version": 3
   },
   "file_extension": ".py",
   "mimetype": "text/x-python",
   "name": "python",
   "nbconvert_exporter": "python",
   "pygments_lexer": "ipython3",
   "version": "3.9.6"
  }
 },
 "nbformat": 4,
 "nbformat_minor": 1
}
